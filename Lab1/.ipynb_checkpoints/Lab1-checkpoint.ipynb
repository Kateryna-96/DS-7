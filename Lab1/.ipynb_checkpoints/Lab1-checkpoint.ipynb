{
 "cells": [
  {
   "cell_type": "markdown",
   "metadata": {},
   "source": [
    "# 1. Markdown cells\n",
    "\n",
    "* Hi! Its Main Academy?\n",
    "* All HTML tabs are supported!\n",
    "* Моя сторінка на лінкедін [Лінкедін](https://www.linkedin.com/login/ru)\n",
    "\n",
    "\n",
    "\n",
    "\n",
    "# This is Heading1\n",
    "\n",
    "## This is Heading2\n",
    "\n",
    "<span style=\"color:gray\">some gray colored text.text</span>\n",
    "\n",
    ">This is where we can bring qoutes and present them nicely\n",
    "\n",
    "And this is the paragraph  about something important. Even math:\n",
    "\n",
    "<div style=\"text-align: right\"> $ y_{sub} = \\sqrt{(x_{sub})}$ </div>\n",
    "\n",
    "Or python code example:\n",
    "\n",
    "    import math\n",
    "    def foo():\n",
    "        return \"foo\"\n"
   ]
  },
  {
   "cell_type": "markdown",
   "metadata": {},
   "source": [
    "<span style=\"font-family: Babas; font-size: 1.5em\"> Here is the sample mean:\n",
    "    \n",
    "<div style=\"text-align: center; font-size: 1.3em\"> \\[ \\bar{y} = \\frac{1} {n}\\sum_{i=1}^{n}y_i\\] </div>  \n",
    "    \n",
    "<span style=\"font-family: Babas; font-size: 1.5em\">Here is the sample varience:\n",
    "    \n",
    "<div style=\"text-align: center; font-size: 1.3em\"> \\[ \\sigma^{2} = \\frac{ \\sum_{i=1}^{n} (y_i-\\bar{y})^2} {n-1} \\]</div>\n",
    "    \n",
    "<span style=\"font-family: Babas; font-size: 1.5em\">Here is the sample standar deviation:\n",
    "    \n",
    "    \n",
    "<div style=\"text-align: center; font-size: 1.5em\"> \\[ \\sigma = \\sqrt{\\frac{\\sum_{i=1}^{n}(y_i-\\bar{y})^2} {n-1}} \\] </div>\n",
    "\n",
    "\n",
    "\n",
    "\n"
   ]
  },
  {
   "cell_type": "code",
   "execution_count": null,
   "metadata": {},
   "outputs": [],
   "source": []
  }
 ],
 "metadata": {
  "kernelspec": {
   "display_name": "Python 3",
   "language": "python",
   "name": "python3"
  },
  "language_info": {
   "codemirror_mode": {
    "name": "ipython",
    "version": 3
   },
   "file_extension": ".py",
   "mimetype": "text/x-python",
   "name": "python",
   "nbconvert_exporter": "python",
   "pygments_lexer": "ipython3",
   "version": "3.7.4"
  }
 },
 "nbformat": 4,
 "nbformat_minor": 2
}
