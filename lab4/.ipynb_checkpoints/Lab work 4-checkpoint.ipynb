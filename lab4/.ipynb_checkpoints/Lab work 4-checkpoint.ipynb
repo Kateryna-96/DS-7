{
 "cells": [
  {
   "cell_type": "markdown",
   "metadata": {},
   "source": [
    "___\n",
    "\n",
    "<a href='https://mainacademy.ua/'> <img src='https://mainacademy.ua/wp-content/uploads/2019/03/logo-main.png' alt = 'Хмм, щось з інтернетом'/></a>\n",
    "___\n",
    "\n",
    "# Module 4: Work with data professionally!"
   ]
  },
  {
   "cell_type": "markdown",
   "metadata": {},
   "source": [
    "## Lab work 4\n",
    "\n"
   ]
  },
  {
   "cell_type": "markdown",
   "metadata": {},
   "source": [
    "#### Мета: \n",
    "\n",
    "* навчитися обробляти дані\n",
    "* \"парсити\" сайти"
   ]
  },
  {
   "cell_type": "markdown",
   "metadata": {},
   "source": [
    "### Завдання 1:"
   ]
  },
  {
   "cell_type": "markdown",
   "metadata": {},
   "source": [
    "#### Ознайомитися із API Національного банку \n",
    "https://old.bank.gov.ua/control/uk/publish/article?art_id=38441973&cat_id=38459171#exchange\n",
    "\n"
   ]
  },
  {
   "cell_type": "markdown",
   "metadata": {},
   "source": [
    "1. Підключитися до API.\n"
   ]
  },
  {
   "cell_type": "code",
   "execution_count": 49,
   "metadata": {},
   "outputs": [],
   "source": [
    "import requests\n",
    "\n",
    "r = requests.get('https://bank.gov.ua/NBUStatService/v1/statdirectory/')"
   ]
  },
  {
   "cell_type": "markdown",
   "metadata": {},
   "source": [
    "2. Отримати курс долара за останній рік."
   ]
  },
  {
   "cell_type": "code",
   "execution_count": 50,
   "metadata": {},
   "outputs": [
    {
     "name": "stdout",
     "output_type": "stream",
     "text": [
      "Курс долара за останній рік:\n",
      "{datetime.date(2021, 1, 1): 28.2746, datetime.date(2021, 1, 2): 28.2746, datetime.date(2021, 1, 3): 28.2746, datetime.date(2021, 1, 4): 28.2746, datetime.date(2021, 1, 5): 28.431, datetime.date(2021, 1, 6): 28.4028, datetime.date(2021, 1, 7): 28.4028, datetime.date(2021, 1, 8): 28.4028, datetime.date(2021, 1, 9): 28.4028, datetime.date(2021, 1, 10): 28.4028, datetime.date(2021, 1, 11): 28.2847, datetime.date(2021, 1, 12): 28.2038, datetime.date(2021, 1, 13): 28.046, datetime.date(2021, 1, 14): 27.9705, datetime.date(2021, 1, 15): 28.0609, datetime.date(2021, 1, 16): 28.0524, datetime.date(2021, 1, 17): 28.0524, datetime.date(2021, 1, 18): 28.0524, datetime.date(2021, 1, 19): 28.1926, datetime.date(2021, 1, 20): 28.1544, datetime.date(2021, 1, 21): 28.2035, datetime.date(2021, 1, 22): 28.2561, datetime.date(2021, 1, 23): 28.2561, datetime.date(2021, 1, 24): 28.2561, datetime.date(2021, 1, 25): 28.1648, datetime.date(2021, 1, 26): 28.1665, datetime.date(2021, 1, 27): 28.1524, datetime.date(2021, 1, 28): 28.1652, datetime.date(2021, 1, 29): 28.1929, datetime.date(2021, 1, 30): 28.1929, datetime.date(2021, 1, 31): 28.1929, datetime.date(2021, 2, 1): 28.1324, datetime.date(2021, 2, 2): 28.0603, datetime.date(2021, 2, 3): 28.0589, datetime.date(2021, 2, 4): 27.995, datetime.date(2021, 2, 5): 27.8885, datetime.date(2021, 2, 6): 27.8885, datetime.date(2021, 2, 7): 27.8885, datetime.date(2021, 2, 8): 27.7711, datetime.date(2021, 2, 9): 27.6651, datetime.date(2021, 2, 10): 27.6426, datetime.date(2021, 2, 11): 27.7665, datetime.date(2021, 2, 12): 27.8384, datetime.date(2021, 2, 13): 27.8384, datetime.date(2021, 2, 14): 27.8384, datetime.date(2021, 2, 15): 27.844, datetime.date(2021, 2, 16): 27.9671, datetime.date(2021, 2, 17): 27.8304, datetime.date(2021, 2, 18): 27.9038, datetime.date(2021, 2, 19): 27.8461, datetime.date(2021, 2, 20): 27.8461, datetime.date(2021, 2, 21): 27.8461, datetime.date(2021, 2, 22): 27.8468, datetime.date(2021, 2, 23): 27.9304, datetime.date(2021, 2, 24): 27.8976, datetime.date(2021, 2, 25): 27.9492, datetime.date(2021, 2, 26): 27.9301, datetime.date(2021, 2, 27): 27.9301, datetime.date(2021, 2, 28): 27.9301, datetime.date(2021, 3, 1): 27.9456, datetime.date(2021, 3, 2): 28.0007, datetime.date(2021, 3, 3): 27.933, datetime.date(2021, 3, 4): 27.8477, datetime.date(2021, 3, 5): 27.7564, datetime.date(2021, 3, 6): 27.7564, datetime.date(2021, 3, 7): 27.7564, datetime.date(2021, 3, 8): 27.7564, datetime.date(2021, 3, 9): 27.7091, datetime.date(2021, 3, 10): 27.7431, datetime.date(2021, 3, 11): 27.7016, datetime.date(2021, 3, 12): 27.7486, datetime.date(2021, 3, 13): 27.7486, datetime.date(2021, 3, 14): 27.7486, datetime.date(2021, 3, 15): 27.7305, datetime.date(2021, 3, 16): 27.6434, datetime.date(2021, 3, 17): 27.6525, datetime.date(2021, 3, 18): 27.6978, datetime.date(2021, 3, 19): 27.6828, datetime.date(2021, 3, 20): 27.6828, datetime.date(2021, 3, 21): 27.6828, datetime.date(2021, 3, 22): 27.7184, datetime.date(2021, 3, 23): 27.6871, datetime.date(2021, 3, 24): 27.7295, datetime.date(2021, 3, 25): 27.8706, datetime.date(2021, 3, 26): 27.9698, datetime.date(2021, 3, 27): 27.9698, datetime.date(2021, 3, 28): 27.9698, datetime.date(2021, 3, 29): 27.9679, datetime.date(2021, 3, 30): 27.9694, datetime.date(2021, 3, 31): 27.8852, datetime.date(2021, 4, 1): 27.8226, datetime.date(2021, 4, 2): 27.8324, datetime.date(2021, 4, 3): 27.8324, datetime.date(2021, 4, 4): 27.8324, datetime.date(2021, 4, 5): 27.9555, datetime.date(2021, 4, 6): 27.939, datetime.date(2021, 4, 7): 27.8384, datetime.date(2021, 4, 8): 27.8923, datetime.date(2021, 4, 9): 27.9768, datetime.date(2021, 4, 10): 27.9768, datetime.date(2021, 4, 11): 27.9768, datetime.date(2021, 4, 12): 27.9094, datetime.date(2021, 4, 13): 27.9335, datetime.date(2021, 4, 14): 28.0156, datetime.date(2021, 4, 15): 27.9765, datetime.date(2021, 4, 16): 27.9592, datetime.date(2021, 4, 17): 27.9592, datetime.date(2021, 4, 18): 27.9592, datetime.date(2021, 4, 19): 27.9783, datetime.date(2021, 4, 20): 28.0087, datetime.date(2021, 4, 21): 28.0096, datetime.date(2021, 4, 22): 28.0576, datetime.date(2021, 4, 23): 28.0642, datetime.date(2021, 4, 24): 28.0642, datetime.date(2021, 4, 25): 28.0642, datetime.date(2021, 4, 26): 27.9014, datetime.date(2021, 4, 27): 27.8558, datetime.date(2021, 4, 28): 27.7715, datetime.date(2021, 4, 29): 27.7867, datetime.date(2021, 4, 30): 27.75, datetime.date(2021, 5, 1): 27.75, datetime.date(2021, 5, 2): 27.75, datetime.date(2021, 5, 3): 27.75, datetime.date(2021, 5, 4): 27.75, datetime.date(2021, 5, 5): 27.733, datetime.date(2021, 5, 6): 27.7339, datetime.date(2021, 5, 7): 27.7205, datetime.date(2021, 5, 8): 27.7205, datetime.date(2021, 5, 9): 27.7205, datetime.date(2021, 5, 10): 27.7205, datetime.date(2021, 5, 11): 27.7641, datetime.date(2021, 5, 12): 27.6744, datetime.date(2021, 5, 13): 27.6318, datetime.date(2021, 5, 14): 27.6273, datetime.date(2021, 5, 15): 27.6273, datetime.date(2021, 5, 16): 27.6273, datetime.date(2021, 5, 17): 27.6142, datetime.date(2021, 5, 18): 27.555, datetime.date(2021, 5, 19): 27.4368, datetime.date(2021, 5, 20): 27.4166, datetime.date(2021, 5, 21): 27.4665, datetime.date(2021, 5, 22): 27.4665, datetime.date(2021, 5, 23): 27.4665, datetime.date(2021, 5, 24): 27.4572, datetime.date(2021, 5, 25): 27.4281, datetime.date(2021, 5, 26): 27.4553, datetime.date(2021, 5, 27): 27.5461, datetime.date(2021, 5, 28): 27.526, datetime.date(2021, 5, 29): 27.526, datetime.date(2021, 5, 30): 27.526, datetime.date(2021, 5, 31): 27.5004, datetime.date(2021, 6, 1): 27.4674, datetime.date(2021, 6, 2): 27.4381, datetime.date(2021, 6, 3): 27.3449, datetime.date(2021, 6, 4): 27.34, datetime.date(2021, 6, 5): 27.34, datetime.date(2021, 6, 6): 27.34, datetime.date(2021, 6, 7): 27.2914, datetime.date(2021, 6, 8): 27.1923, datetime.date(2021, 6, 9): 27.1764, datetime.date(2021, 6, 10): 27.0906, datetime.date(2021, 6, 11): 27.1068, datetime.date(2021, 6, 12): 27.1068, datetime.date(2021, 6, 13): 27.1068, datetime.date(2021, 6, 14): 27.0404, datetime.date(2021, 6, 15): 26.9957, datetime.date(2021, 6, 16): 26.9258, datetime.date(2021, 6, 17): 27.0275, datetime.date(2021, 6, 18): 27.1712, datetime.date(2021, 6, 19): 27.1712, datetime.date(2021, 6, 20): 27.1712, datetime.date(2021, 6, 21): 27.1712, datetime.date(2021, 6, 22): 27.1935, datetime.date(2021, 6, 23): 27.305, datetime.date(2021, 6, 24): 27.2737, datetime.date(2021, 6, 25): 27.4589, datetime.date(2021, 6, 26): 27.4589, datetime.date(2021, 6, 27): 27.4589, datetime.date(2021, 6, 28): 27.4589, datetime.date(2021, 6, 29): 27.3964, datetime.date(2021, 6, 30): 27.1763, datetime.date(2021, 7, 1): 27.2275, datetime.date(2021, 7, 2): 27.3841, datetime.date(2021, 7, 3): 27.3841, datetime.date(2021, 7, 4): 27.3841, datetime.date(2021, 7, 5): 27.4121, datetime.date(2021, 7, 6): 27.2904, datetime.date(2021, 7, 7): 27.2497, datetime.date(2021, 7, 8): 27.2993, datetime.date(2021, 7, 9): 27.2862, datetime.date(2021, 7, 10): 27.2862, datetime.date(2021, 7, 11): 27.2862, datetime.date(2021, 7, 12): 27.3234, datetime.date(2021, 7, 13): 27.2904, datetime.date(2021, 7, 14): 27.3216, datetime.date(2021, 7, 15): 27.3047, datetime.date(2021, 7, 16): 27.2905, datetime.date(2021, 7, 17): 27.2905, datetime.date(2021, 7, 18): 27.2905, datetime.date(2021, 7, 19): 27.2301, datetime.date(2021, 7, 20): 27.2132, datetime.date(2021, 7, 21): 27.2205, datetime.date(2021, 7, 22): 27.2405, datetime.date(2021, 7, 23): 27.1915, datetime.date(2021, 7, 24): 27.1915, datetime.date(2021, 7, 25): 27.1915, datetime.date(2021, 7, 26): 27.048, datetime.date(2021, 7, 27): 26.9805, datetime.date(2021, 7, 28): 26.906, datetime.date(2021, 7, 29): 26.8628, datetime.date(2021, 7, 30): 26.8867, datetime.date(2021, 7, 31): 26.8867, datetime.date(2021, 8, 1): 26.8867, datetime.date(2021, 8, 2): 26.8168, datetime.date(2021, 8, 3): 26.8444, datetime.date(2021, 8, 4): 26.8411, datetime.date(2021, 8, 5): 26.9094, datetime.date(2021, 8, 6): 26.9395, datetime.date(2021, 8, 7): 26.9395, datetime.date(2021, 8, 8): 26.9395, datetime.date(2021, 8, 9): 26.8346, datetime.date(2021, 8, 10): 26.8011, datetime.date(2021, 8, 11): 26.7557, datetime.date(2021, 8, 12): 26.8042, datetime.date(2021, 8, 13): 26.7686, datetime.date(2021, 8, 14): 26.7686}\n"
     ]
    }
   ],
   "source": [
    "import datetime\n",
    "\n",
    "def currency_data(start_date, end_date):\n",
    "    \n",
    "    data_store = {}\n",
    "    day = start_date\n",
    "\n",
    "    while day != end_date:\n",
    "        exchange_url = 'https://bank.gov.ua/NBUStatService/v1/statdirectory/exchange?date='+day.strftime('%Y%m%d')+'&json?'\n",
    "        resp = requests.get(exchange_url)\n",
    "        if resp.status_code == 200:\n",
    "            data = resp.json()\n",
    "            for currency in data:\n",
    "                if currency[\"cc\"] == \"USD\":\n",
    "                    curr_name = currency[\"txt\"]\n",
    "                    rate = currency[\"rate\"]\n",
    "                    date = currency[\"exchangedate\"]\n",
    "                    data_store[day] = rate\n",
    "\n",
    "        day = day + datetime.timedelta(days=1)\n",
    "    \n",
    "    return data_store\n",
    "    \n",
    "    \n",
    "    \n",
    "    \n",
    "    \n",
    "\n",
    "start_day = datetime.date(year = 2021, month = 1, day = 1)\n",
    "\n",
    "print(\"Курс долара за останній рік:\")\n",
    "\n",
    "print(currency_data(start_day, datetime.date.today()))\n",
    "\n",
    "\n",
    "    \n"
   ]
  },
  {
   "cell_type": "markdown",
   "metadata": {},
   "source": [
    "3. Вивести середнє значення та відхилення курсу за кожний місяць."
   ]
  },
  {
   "cell_type": "code",
   "execution_count": 51,
   "metadata": {},
   "outputs": [],
   "source": [
    "month_list = []\n",
    "for i in range (7):\n",
    "    start_date = datetime.date(year = 2021, month = i+1, day = 1)\n",
    "    end_date = datetime.date(year = 2021, month = i+2, day = 1)\n",
    "    \n",
    "    month_list.append(currency_data(start_date, end_date))\n",
    "    \n"
   ]
  },
  {
   "cell_type": "code",
   "execution_count": 52,
   "metadata": {},
   "outputs": [
    {
     "name": "stdout",
     "output_type": "stream",
     "text": [
      "Mean values per month:  {'month 1': 28.219770967741937, 'month 2': 27.88466071428571, 'month 3': 27.79555806451613, 'month 4': 27.930006666666667, 'month 5': 27.602848387096767, 'month 6': 27.23987333333332, 'month 7': 27.214548387096777} \n",
      "\n",
      "Standard_deviation per month:  {'month 1': 0.12115058663084945, 'month 2': 0.10439519125243586, 'month 3': 0.113636249822287, 'month 4': 0.08930549790217604, 'month 5': 0.11849255828264615, 'month 6': 0.1534613869639165, 'month 7': 0.15329376367376968}\n"
     ]
    }
   ],
   "source": [
    "import math\n",
    "\n",
    "month_standard_deviation = {}\n",
    "month_mean_value = {}\n",
    "i = 1\n",
    "\n",
    "for month in month_list:\n",
    "    month_mean_value[f'month {i}'] = sum(month.values())/len(month.values())\n",
    "    month_standard_deviation[f'month {i}'] = math.sqrt(sum(list(map(lambda x: (x - month_mean_value[f'month {i}'])**2, month.values())))/len(month.values()))\n",
    "    i +=1\n",
    "    \n",
    "print(\"Mean values per month: \", month_mean_value, \"\\n\")\n",
    "print(\"Standard_deviation per month: \", month_standard_deviation)\n",
    "    "
   ]
  },
  {
   "cell_type": "markdown",
   "metadata": {},
   "source": [
    "4. Дану інформацію записати у файл за допомогою pickle."
   ]
  },
  {
   "cell_type": "code",
   "execution_count": 53,
   "metadata": {},
   "outputs": [],
   "source": [
    "import pickle\n",
    "\n",
    "\n",
    "f = open('currency_data.pickle', 'wb')\n",
    "\n",
    "data = {\"Mean values per month\":month_mean_value, \"Standard_deviation per month\" : month_standard_deviation}\n",
    "\n",
    "pickle.dump(data, f)\n",
    "\n",
    "f.close()"
   ]
  },
  {
   "cell_type": "markdown",
   "metadata": {},
   "source": [
    "### Завдання 2:"
   ]
  },
  {
   "cell_type": "markdown",
   "metadata": {},
   "source": [
    "Потрібно проаналізувати всі товари на сайті: \n",
    "https://smallpacking.agrosem.ua/shop/"
   ]
  },
  {
   "cell_type": "markdown",
   "metadata": {},
   "source": [
    "Створіть базу даних, що містить таблицю із такими стовбцями: \n",
    "    - артикул товару\n",
    "    - найменування\n",
    "    - ціна \n",
    "    - вага"
   ]
  },
  {
   "cell_type": "code",
   "execution_count": 55,
   "metadata": {},
   "outputs": [],
   "source": [
    "import sqlite3\n",
    "\n",
    "\n",
    "\n",
    "db_conection = sqlite3.connect('agro_products.db')\n",
    "\n",
    "\n",
    "sql_text = \"\"\"\n",
    "            CREATE TABLE Product (\n",
    "                Артикул товару TEXT,\n",
    "                Найменування TEXT,\n",
    "                Ціна TEXT,\n",
    "                Пакування TEXT)  \"\"\"\n",
    "\n",
    "curs = db_conection.cursor()\n",
    "\n",
    "curs.executescript(sql_text)\n",
    "\n",
    "db_conection.close()"
   ]
  },
  {
   "cell_type": "code",
   "execution_count": 56,
   "metadata": {},
   "outputs": [],
   "source": [
    "from bs4 import BeautifulSoup\n",
    "\n",
    "\n",
    "conn = sqlite3.connect('agro_products.db')\n",
    "\n",
    "for page in range(8):\n",
    "    url = 'https://smallpacking.agrosem.ua/shop/page'+str(page+1)+'/'\n",
    "    resp = requests.get(url)\n",
    "    soup = BeautifulSoup(resp.text, 'lxml')\n",
    "    product_cont = soup.find_all(\"div\", class_ = \"product-from-category-container\")\n",
    "\n",
    "    for soup in product_cont:\n",
    "        r = requests.get(soup.find('a').get(\"href\"))\n",
    "        s = BeautifulSoup(r.text, 'lxml')\n",
    "        decrb = s.find('div', class_='atributes-description')\n",
    "        prod_name = decrb.find('h2').text\n",
    "        pack_type = decrb.find('span', class_='type-packaging-name').text\n",
    "        sku = decrb.find('span', class_='sku').text[4:]\n",
    "        price = decrb.find('span', class_='regular-price').text\n",
    "\n",
    "        text = f\"('{sku}', '{prod_name}', '{price}', '{pack_type}')\"\n",
    "        sql_text = f\"\"\"INSERT INTO Product VALUES {text}\"\"\"\n",
    "\n",
    "        curs = conn.cursor()\n",
    "        curs.execute(sql_text)\n",
    "        conn.commit()\n",
    "\n",
    "\n",
    "conn.close()\n",
    "    \n",
    "\n"
   ]
  },
  {
   "cell_type": "markdown",
   "metadata": {},
   "source": [
    "Ознайомтеся із роботою SQLite та відповідним модулем у Python.\n",
    "Завантажте базу даних для виконання лабораторної роботи.\n",
    "Підключіться до завантаженої бази SQLite."
   ]
  },
  {
   "cell_type": "markdown",
   "metadata": {},
   "source": [
    "### Завдання 3: "
   ]
  },
  {
   "cell_type": "markdown",
   "metadata": {},
   "source": [
    "1. Виведіть інформацію про дану базу."
   ]
  },
  {
   "cell_type": "code",
   "execution_count": 44,
   "metadata": {},
   "outputs": [
    {
     "name": "stdout",
     "output_type": "stream",
     "text": [
      "Кількість таблиць: 5\n"
     ]
    }
   ],
   "source": [
    "import sqlite3\n",
    "\n",
    "conn = sqlite3.connect('tysql.sqlite')\n",
    "cur = conn.cursor()\n",
    "tab_qty = cur.execute(\"SELECT count(*) FROM sqlite_master where type = 'table'\").fetchall()\n",
    "print('Кількість таблиць:', tab_qty[0][0])\n"
   ]
  },
  {
   "cell_type": "markdown",
   "metadata": {},
   "source": [
    "2. Виведіть перелік всіх таблиць."
   ]
  },
  {
   "cell_type": "code",
   "execution_count": 46,
   "metadata": {},
   "outputs": [
    {
     "name": "stdout",
     "output_type": "stream",
     "text": [
      "List of tables:\n",
      "Customers\n",
      "OrderItems\n",
      "Orders\n",
      "Products\n",
      "Vendors\n"
     ]
    }
   ],
   "source": [
    "names = cur.execute(\"SELECT name FROM sqlite_master \").fetchall()\n",
    "print(\"List of tables:\")\n",
    "i = 0\n",
    "for name in names:\n",
    "    if i%2 == 0:\n",
    "        print(name[0])\n",
    "    i +=1    "
   ]
  },
  {
   "cell_type": "markdown",
   "metadata": {},
   "source": [
    "3. Список всіх cust_id з таблиці Customers table."
   ]
  },
  {
   "cell_type": "code",
   "execution_count": 28,
   "metadata": {},
   "outputs": [
    {
     "name": "stdout",
     "output_type": "stream",
     "text": [
      "[('1000000001',), ('1000000002',), ('1000000003',), ('1000000004',), ('1000000005',)]\n"
     ]
    }
   ],
   "source": [
    "cust_id  = cur.execute(\"SELECT cust_id FROM Customers\").fetchall()\n",
    "print(cust_id)"
   ]
  },
  {
   "cell_type": "markdown",
   "metadata": {},
   "source": [
    "4. Всю таблицю Customers table"
   ]
  },
  {
   "cell_type": "code",
   "execution_count": 27,
   "metadata": {},
   "outputs": [
    {
     "name": "stdout",
     "output_type": "stream",
     "text": [
      "[('1000000001', 'Village Toys', '200 Maple Lane', 'Detroit', 'MI', '44444', 'USA', 'John Smith', 'sales@villagetoys.com'), ('1000000002', 'Kids Place', '333 South Lake Drive', 'Columbus', 'OH', '43333', 'USA', 'Michelle Green', None), ('1000000003', 'Fun4All', '1 Sunny Place', 'Muncie', 'IN', '42222', 'USA', 'Jim Jones', 'jjones@fun4all.com'), ('1000000004', 'Fun4All', '829 Riverside Drive', 'Phoenix', 'AZ', '88888', 'USA', 'Denise L. Stephens', 'dstephens@fun4all.com'), ('1000000005', 'The Toy Store', '4545 53rd Street', 'Chicago', 'IL', '54545', 'USA', 'Kim Howard', None)]\n"
     ]
    }
   ],
   "source": [
    "cust  = cur.execute(\"SELECT * FROM Customers\").fetchall()\n",
    "print(cust)"
   ]
  },
  {
   "cell_type": "markdown",
   "metadata": {},
   "source": [
    "5. Список клієнтів (cust_names) відсортованих від Z до A"
   ]
  },
  {
   "cell_type": "code",
   "execution_count": 25,
   "metadata": {},
   "outputs": [
    {
     "name": "stdout",
     "output_type": "stream",
     "text": [
      "[('Village Toys',), ('The Toy Store',), ('Kids Place',), ('Fun4All',), ('Fun4All',)]\n"
     ]
    }
   ],
   "source": [
    "cust_names  = cur.execute('''SELECT cust_name \n",
    "                             FROM Customers ORDER BY cust_name DESC\n",
    "                          ''').fetchall()\n",
    "print(cust_names)"
   ]
  },
  {
   "cell_type": "markdown",
   "metadata": {},
   "source": [
    "6. Таблицю клієнтів та замовлень (cust_id і order_num) . Відсортуйте по клієнту і потім по даті замовлення"
   ]
  },
  {
   "cell_type": "code",
   "execution_count": 24,
   "metadata": {},
   "outputs": [
    {
     "name": "stdout",
     "output_type": "stream",
     "text": [
      "[('1000000001', 20005), ('1000000001', 20009), ('1000000003', 20006), ('1000000004', 20007), ('1000000005', 20008)]\n"
     ]
    }
   ],
   "source": [
    "cust_id_order  = cur.execute('''SELECT cust_id, order_num\n",
    "                                FROM Orders ORDER BY cust_id, order_num\n",
    "                             ''').fetchall()\n",
    "print(cust_id_order)"
   ]
  },
  {
   "cell_type": "markdown",
   "metadata": {},
   "source": [
    "7. Таблицю (на основі Items) з кількість та вартістю товару. Відсортуйте в порядку спадання по кількості та вартості"
   ]
  },
  {
   "cell_type": "code",
   "execution_count": 23,
   "metadata": {},
   "outputs": [
    {
     "name": "stdout",
     "output_type": "stream",
     "text": [
      "[(1, 250, 2.49), (2, 250, 2.49), (3, 250, 2.49), (2, 100, 10.99), (1, 100, 5.49), (2, 100, 2.99), (3, 100, 2.99), (4, 100, 2.99), (1, 50, 11.49), (5, 50, 4.49), (1, 20, 5.99), (3, 10, 11.99), (2, 10, 8.99), (3, 10, 3.49), (4, 10, 3.49), (5, 10, 3.49), (2, 5, 11.99), (1, 5, 4.99)]\n"
     ]
    }
   ],
   "source": [
    "cust_items  = cur.execute('''SELECT order_item, quantity, item_price\n",
    "                                FROM Orderitems \n",
    "                                ORDER BY quantity DESC, item_price DESC\n",
    "                          ''').fetchall()\n",
    "print(cust_items)"
   ]
  },
  {
   "cell_type": "markdown",
   "metadata": {},
   "source": [
    "8. Товар (з таблиці Products), ціна якого становить 9.49"
   ]
  },
  {
   "cell_type": "code",
   "execution_count": 22,
   "metadata": {},
   "outputs": [
    {
     "name": "stdout",
     "output_type": "stream",
     "text": [
      "[('King doll', 9.49), ('Queen doll', 9.49)]\n"
     ]
    }
   ],
   "source": [
    "some_prods = cur.execute('''SELECT prod_name, prod_price\n",
    "                            FROM Products WHERE prod_price = 9.49\n",
    "                        ''').fetchall()\n",
    "print(some_prods)"
   ]
  },
  {
   "cell_type": "markdown",
   "metadata": {},
   "source": [
    "9. Виведіть назву товару та ціну, яка лежить в діапазоні від  3 до 6. Відсортуйте результат в по ціні в порядку зростання"
   ]
  },
  {
   "cell_type": "code",
   "execution_count": 20,
   "metadata": {},
   "outputs": [
    {
     "name": "stdout",
     "output_type": "stream",
     "text": [
      "[('8 inch teddy bear', 5.99), ('Fish bean bag toy', 3.49), ('Bird bean bag toy', 3.49), ('Rabbit bean bag toy', 3.49), ('Raggedy Ann', 4.99)]\n"
     ]
    }
   ],
   "source": [
    "prod_list = cur.execute('''SELECT prod_name, prod_price\n",
    "                            FROM Products WHERE prod_price >= 3 and prod_price <= 6\n",
    "                        ''').fetchall()\n",
    "print(prod_list)"
   ]
  },
  {
   "cell_type": "markdown",
   "metadata": {},
   "source": [
    "10. Кількість товару, що було продано"
   ]
  },
  {
   "cell_type": "code",
   "execution_count": 19,
   "metadata": {},
   "outputs": [
    {
     "name": "stdout",
     "output_type": "stream",
     "text": [
      "Кількість товару, що було продано =  1430\n"
     ]
    }
   ],
   "source": [
    "seled_qty  = cur.execute(\"SELECT SUM(quantity) FROM Orderitems\").fetchone()[0]\n",
    "print(\"Кількість товару, що було продано = \", seled_qty)"
   ]
  },
  {
   "cell_type": "markdown",
   "metadata": {},
   "source": [
    "11. Кількість найменувань товару, ціна якого більша за 4"
   ]
  },
  {
   "cell_type": "code",
   "execution_count": 18,
   "metadata": {},
   "outputs": [
    {
     "name": "stdout",
     "output_type": "stream",
     "text": [
      "Кількість найменувань товару, ціна якого більша за 4 =  6\n"
     ]
    }
   ],
   "source": [
    "name_qty = cur.execute('''SELECT Count(prod_name), prod_price \n",
    "                            FROM Products WHERE prod_price >= 4\n",
    "                       ''').fetchall()\n",
    "print(\"Кількість найменувань товару, ціна якого більша за 4 = \", name_qty[0][0])"
   ]
  },
  {
   "cell_type": "markdown",
   "metadata": {},
   "source": [
    "12. Розробіть алгоритм для виведення 3 найдорожчих товарів в базі"
   ]
  },
  {
   "cell_type": "code",
   "execution_count": 17,
   "metadata": {},
   "outputs": [
    {
     "name": "stdout",
     "output_type": "stream",
     "text": [
      "3 найдорожчих товарів в базі:  [('18 inch teddy bear', 11.99), ('King doll', 9.49), ('Queen doll', 9.49)]\n"
     ]
    }
   ],
   "source": [
    "most_exp_list = cur.execute('''SELECT prod_name, prod_price\n",
    "                                FROM Products ORDER BY prod_price DESC\n",
    "                            ''').fetchall()[:3]\n",
    "print(\"3 найдорожчих товарів в базі: \", most_exp_list)"
   ]
  },
  {
   "cell_type": "markdown",
   "metadata": {},
   "source": [
    "13. Підрахуйте кількість замовлень для кожного клієнта використовуючи підзапити"
   ]
  },
  {
   "cell_type": "code",
   "execution_count": 2,
   "metadata": {},
   "outputs": [
    {
     "name": "stdout",
     "output_type": "stream",
     "text": [
      "кількість замовлень для кожного клієнта використовуючи підзапити:  [('Village Toys', 2), ('Kids Place', 0), ('Fun4All', 1), ('Fun4All', 1), ('The Toy Store', 1)]\n"
     ]
    }
   ],
   "source": [
    "order_qty = cur.execute('''SELECT cust_name, (SELECT COUNT(order_date) \n",
    "                            FROM Orders WHERE Customers.cust_id = Orders.cust_id)\n",
    "                            FROM Customers\n",
    "                        ''').fetchall()\n",
    "print(\"кількість замовлень для кожного клієнта використовуючи підзапити: \", order_qty)"
   ]
  },
  {
   "cell_type": "markdown",
   "metadata": {},
   "source": [
    "14. Виведіть список клієнтів та їх замовлення (використайте JOIN)"
   ]
  },
  {
   "cell_type": "code",
   "execution_count": 68,
   "metadata": {},
   "outputs": [
    {
     "name": "stdout",
     "output_type": "stream",
     "text": [
      "[('Village Toys', 20005, 'BR01', '8 inch teddy bear'), ('Village Toys', 20005, 'BR03', '18 inch teddy bear'), ('Fun4All', 20006, 'BR01', '8 inch teddy bear'), ('Fun4All', 20006, 'BR02', '12 inch teddy bear'), ('Fun4All', 20006, 'BR03', '18 inch teddy bear'), ('Fun4All', 20007, 'BR03', '18 inch teddy bear'), ('Fun4All', 20007, 'BNBG01', 'Fish bean bag toy'), ('Fun4All', 20007, 'BNBG02', 'Bird bean bag toy'), ('Fun4All', 20007, 'BNBG03', 'Rabbit bean bag toy'), ('Fun4All', 20007, 'RGAN01', 'Raggedy Ann'), ('The Toy Store', 20008, 'RGAN01', 'Raggedy Ann'), ('The Toy Store', 20008, 'BR03', '18 inch teddy bear'), ('The Toy Store', 20008, 'BNBG01', 'Fish bean bag toy'), ('The Toy Store', 20008, 'BNBG02', 'Bird bean bag toy'), ('The Toy Store', 20008, 'BNBG03', 'Rabbit bean bag toy'), ('Village Toys', 20009, 'BNBG01', 'Fish bean bag toy'), ('Village Toys', 20009, 'BNBG02', 'Bird bean bag toy'), ('Village Toys', 20009, 'BNBG03', 'Rabbit bean bag toy')]\n"
     ]
    }
   ],
   "source": [
    "order_qty = cur.execute(''' SELECT Customers.cust_name, Orders.order_num, OrderItems.prod_id, Products.prod_name\n",
    "                            FROM Customers\n",
    "                            INNER JOIN Orders ON Customers.cust_id = Orders.cust_id\n",
    "                            LEFT JOIN OrderItems ON OrderItems.order_num = Orders.order_num\n",
    "                            INNER JOIN Products ON Products.prod_id = OrderItems.prod_id  \n",
    "                        ''').fetchall()\n",
    "print(order_qty)\n",
    "#LEFT JOIN Products ON OrderItems.order_num = Orders.order_num\n",
    "#INNER JOIN OrderItems ON OrderItems.order_num = Orders.order_num"
   ]
  },
  {
   "cell_type": "markdown",
   "metadata": {},
   "source": [
    "15. Зробіть два запити: список товарів, ціна яких менша 5 та список товарів, ціна який більша рівна 5. Використайте UNION для об'єднання цих запитів"
   ]
  },
  {
   "cell_type": "code",
   "execution_count": 16,
   "metadata": {},
   "outputs": [
    {
     "name": "stdout",
     "output_type": "stream",
     "text": [
      "[('12 inch teddy bear', 8.99), ('18 inch teddy bear', 11.99), ('8 inch teddy bear', 5.99), ('Bird bean bag toy', 3.49), ('Fish bean bag toy', 3.49), ('King doll', 9.49), ('Queen doll', 9.49), ('Rabbit bean bag toy', 3.49), ('Raggedy Ann', 4.99)]\n"
     ]
    }
   ],
   "source": [
    "res = cur.execute(''' SELECT DISTINCT prod_name, prod_price FROM Products\n",
    "                            WHERE prod_price < 5\n",
    "                            UNION\n",
    "                       SELECT DISTINCT prod_name, prod_price FROM Products\n",
    "                            WHERE prod_price >= 5\n",
    "                        ''').fetchall()\n",
    "print(res)"
   ]
  },
  {
   "cell_type": "markdown",
   "metadata": {},
   "source": [
    "### Завдання 4: "
   ]
  },
  {
   "cell_type": "markdown",
   "metadata": {},
   "source": [
    "Зареєструйтеся на сайті  http://www.sql-ex.ru/\n",
    "\n",
    "Виконайте завдання із блоку SELECT; з 1 по 30 завдання\n",
    "\n",
    "Код запитів вставляйте сюди\n"
   ]
  },
  {
   "cell_type": "markdown",
   "metadata": {},
   "source": [
    "1. SELECT model, speed, hd FROM PC WHERE price <500\n",
    "\n",
    "2. SELECT DISTINCT maker FROM Product WHERE type = 'Printer'\n",
    "\n",
    "3. SELECT model, ram, screen FROM Laptop WHERE price >1000\n",
    "\n",
    "4. SELECT * FROM Printer WHERE color = 'y'\n",
    "\n",
    "5. SELECT model, speed, hd FROM PC WHERE price < 600 and cd ='12x' or cd = '24x'\n",
    "\n",
    "6. SELECT maker, Laptop.speed FROM Product\n",
    "    JOIN Laptop ON Laptop.model = Product.model\n",
    "    WHERE Laptop.hd >= 10\n",
    "    \n",
    "7. SELECT Product.model, PC.price FROM Product\n",
    "    JOIN PC ON PC.model = Product.model WHERE maker = 'B'\n",
    "    UNION\n",
    "    SELECT Product.model, Laptop.price FROM Product\n",
    "    JOIN Laptop ON Laptop.model = Product.model WHERE maker = 'B'\n",
    "    UNION\n",
    "    SELECT Product.model, Printer.price FROM Product\n",
    "    JOIN Printer ON Printer.model = Product.model WHERE maker = 'B'\n",
    "    \n",
    "8. SELECT DISTINCT maker FROM Product WHERE type ='PC'\n",
    "    EXCEPT\n",
    "    SELECT DISTINCT maker FROM Product WHERE type ='Laptop'\n",
    "    \n",
    "9. SELECT DISTINCT Maker FROM Product\n",
    "    JOIN PC ON Product.model = PC.model\n",
    "    WHERE PC.speed >= 450\n",
    "    \n",
    "10. SELECT model, price FROM Printer\n",
    "    WHERE price = (SELECT MAX(price) FROM Printer)\n",
    "    \n",
    "11. SELECT AVG(speed) FROM PC\n",
    "\n",
    "12. SELECT AVG(speed) FROM Laptop WHERE price >=1000\n",
    "\n",
    "13. SELECT AVG(speed) FROM Product \n",
    "    JOIN PC ON PC.model = Product.model\n",
    "    WHERE maker = 'A'\n",
    "    \n",
    "14. SELECT Classes.class, Ships.name, Classes.country FROM Ships\n",
    "    JOIN Classes ON Classes.class = Ships.class\n",
    "    WHERE Classes.numGuns >=10\n",
    "    \n",
    "15. SELECT hd FROM PC \n",
    "    GROUP BY hd \n",
    "    HAVING COUNT(code)>=2"
   ]
  },
  {
   "cell_type": "code",
   "execution_count": null,
   "metadata": {},
   "outputs": [],
   "source": []
  }
 ],
 "metadata": {
  "kernelspec": {
   "display_name": "Python 3",
   "language": "python",
   "name": "python3"
  },
  "language_info": {
   "codemirror_mode": {
    "name": "ipython",
    "version": 3
   },
   "file_extension": ".py",
   "mimetype": "text/x-python",
   "name": "python",
   "nbconvert_exporter": "python",
   "pygments_lexer": "ipython3",
   "version": "3.7.4"
  }
 },
 "nbformat": 4,
 "nbformat_minor": 2
}
